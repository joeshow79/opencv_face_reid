{
 "cells": [
  {
   "cell_type": "code",
   "execution_count": 27,
   "metadata": {},
   "outputs": [],
   "source": [
    "import numpy as np\n",
    "import cv2\n",
    "from matplotlib import pyplot as plt"
   ]
  },
  {
   "cell_type": "code",
   "execution_count": 28,
   "metadata": {},
   "outputs": [],
   "source": [
    "# img_path = 'img/ir.raw'\n",
    "# output_path = 'img/ir.png'\n",
    "img_path = 'img/depth.raw'\n",
    "output_path = 'img/depth.png'\n",
    "\n",
    "dest_h = 480\n",
    "dest_w = 640"
   ]
  },
  {
   "cell_type": "code",
   "execution_count": 29,
   "metadata": {},
   "outputs": [
    {
     "name": "stdout",
     "output_type": "stream",
     "text": [
      "data range [0, 5368]\n",
      "(480, 640)\n"
     ]
    }
   ],
   "source": [
    "# IO\n",
    "data = np.fromfile(img_path, dtype=np.ushort)\n",
    "print('data range [{}, {}]'.format(np.min(data), np.max(data)))\n",
    "\n",
    "depth_max = np.max(data) # hack one image, the max is 5368\n",
    "depth_min = 0\n",
    "\n",
    "# Normalization\n",
    "data = data/depth_max # Normalize to [0.0, 1.0]\n",
    "data = data * 255\n",
    "\n",
    "# Note: Revert!!!\n",
    "data = 255 - data\n",
    "\n",
    "img = data.reshape(dest_h, dest_w).astype(np.uint8)\n",
    "print(img.shape)"
   ]
  },
  {
   "cell_type": "code",
   "execution_count": 30,
   "metadata": {},
   "outputs": [],
   "source": [
    "# Rotate since the original image's orientation is wrong\n",
    "img = np.rot90(img)\n",
    "img = np.rot90(img)\n",
    "img = np.rot90(img)"
   ]
  },
  {
   "cell_type": "code",
   "execution_count": 31,
   "metadata": {},
   "outputs": [
    {
     "name": "stdout",
     "output_type": "stream",
     "text": [
      "(640, 480)\n"
     ]
    }
   ],
   "source": [
    "# Hist\n",
    "img = cv2.equalizeHist(img)\n",
    "img = img.astype(np.uint8)\n",
    "print(img.shape)\n",
    "#print(np.max(img), np.min(img))"
   ]
  },
  {
   "cell_type": "code",
   "execution_count": 32,
   "metadata": {},
   "outputs": [
    {
     "name": "stdout",
     "output_type": "stream",
     "text": [
      "921600\n"
     ]
    },
    {
     "data": {
      "text/plain": [
       "True"
      ]
     },
     "execution_count": 32,
     "metadata": {},
     "output_type": "execute_result"
    }
   ],
   "source": [
    "#plt.imshow(res)\n",
    "#plt.show()\n",
    "img = cv2.cvtColor(img, cv2.COLOR_GRAY2BGR)\n",
    "#print(img.size)\n",
    "\n",
    "cv2.imwrite(output_path, img)"
   ]
  },
  {
   "cell_type": "markdown",
   "metadata": {},
   "source": [
    "help(np.argmax)"
   ]
  },
  {
   "cell_type": "code",
   "execution_count": null,
   "metadata": {},
   "outputs": [],
   "source": []
  }
 ],
 "metadata": {
  "kernelspec": {
   "display_name": "Python 3",
   "language": "python",
   "name": "python3"
  },
  "language_info": {
   "codemirror_mode": {
    "name": "ipython",
    "version": 3
   },
   "file_extension": ".py",
   "mimetype": "text/x-python",
   "name": "python",
   "nbconvert_exporter": "python",
   "pygments_lexer": "ipython3",
   "version": "3.5.2"
  }
 },
 "nbformat": 4,
 "nbformat_minor": 4
}
